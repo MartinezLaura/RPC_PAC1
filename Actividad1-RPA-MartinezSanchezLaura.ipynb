{
 "cells": [
  {
   "cell_type": "code",
   "execution_count": 2,
   "metadata": {},
   "outputs": [],
   "source": [
    "#Realizamos importacion\n",
    "import main as mn"
   ]
  },
  {
   "cell_type": "markdown",
   "metadata": {},
   "source": [
    "# Aestrella\n",
    "\n",
    "## Definicion\n",
    "El algoritmo A* es un algoritmo de busqueda informada que, a partir de un estado inicial y un estado meta, busca una solucion optima al problema a traves de una busqueda por anchura y una heuristica. La funcion que evalua los estados posibles para llegar al estado meta es:\n",
    "\n",
    "$f(n) = g(n) + h'(n)$, donde\n",
    "$g(n)$ es la distancia real entre el nodo inicial y el actual\n",
    "$h'(n)$ Funcion heuristica que mide la distancia estimada entre el nodo actual y la meta\n",
    "\n",
    "## Propiedades\n",
    "* La heuristica tiene que se admisible. Nunca puede sobreestimar la distancia, para todo $n$, $h(n)\\leq Coste_{minReal}(n)$ \n",
    "* Si el problema tiene solucion, el algoritmo la encuentra\n",
    "* $h(n)$ es consistente o monotona,  $h'(n_{actual}) \\leq g(n_{sucesor}) - g(n_{actual}) + h'(n_{sucesor})$ \n",
    "\n",
    "## Problema planteado\n",
    "Amazon robot que debe mover las mercancias de un origen a un destino marcado\n",
    "### Estado inicial\n",
    "<center><img src=\"https://drive.google.com/uc?export=view&id=1Mzml6909YsiwqCB77-xeLYRoVt93uLKg\" alt=\"Estado inicial\" with=\"120\" height=\"40\"></center>\n",
    "\n",
    "### Estado final\n",
    "<center><img src=\"https://drive.google.com/uc?export=view&id=1rhaD4HXNAHjp9v2algygF38-OVNePBSe\" alt=\"Estado final\" with=\"120\" height=\"40\"></center>\n",
    "\n",
    "Donde, \n",
    "*   R: representa el robot. Inicialmente está ubicado en la posición [2,2]\n",
    "*   \\#: representa una pared. \n",
    "*   M1, M2, e M3: representan los tres inventarios que el robot debe mover. Y se encuentran ubicadas en las posiciones [0,0], [2,0] y [0,3] respectivamente.\n",
    "\n",
    "\n",
    "## Asunciones hechas:\n",
    " 1. Las mercancias, al ser estanterias como en el video, se consideraran obstaculos, solo cuando tengamos mercancia cargada, en los otros casos se asume que no es obstaculo dado que el robot puede pasar por debajo.\n",
    " 2. El orden de recogida se escoge con una heuristica.\n",
    " 3. La posicion del robot para recoger la siguiente mercancia siempre sera la ultima posicion que el robot tubiera. \n",
    " \n",
    "## Definicion de la estructura de datos y diagrama de flujo\n",
    "<center><img src=\"./Diagrama.png\" alt=\"Estado final\"></center>\n",
    "\n",
    "## Consideraciones y problemas\n",
    "### Heuristica para la seleccion del orden\n",
    "Estra metrica no funcionara en todos los casos, ejemplo, tema de obstaculos\n",
    "\n",
    "### Gestion de obstaculos\n",
    "\n",
    "### Carga y descarga de la mercancia\n",
    "\n",
    "### Retroceso del robot\n",
    "\n",
    "### Imprimir camino\n",
    "\n",
    "## Conclusiones\n",
    "\n",
    "## Ejecucion y resultados\n",
    "\n"
   ]
  },
  {
   "cell_type": "code",
   "execution_count": null,
   "metadata": {},
   "outputs": [],
   "source": [
    "    m = mn.Mapa()\n",
    "    m.pared = m.loc_pared()\n",
    "    m.robot= m.loc_robot()\n",
    "\n",
    "    df = mn.selecion_orden(m)\n",
    "    df"
   ]
  },
  {
   "cell_type": "markdown",
   "metadata": {},
   "source": [
    "Como podemos ver en ambos casos el orden es el mismo. La columna *Mercancias* sera el iterador de objectivos en nuestro A*\n",
    "\n",
    "### Gestion de listas\n",
    "En este caso disponemos de tres listas de Nodos (clase propia):\n",
    "1. Lista abierta\n",
    "2. Lista cerada\n",
    "3. Lista de retroceso\n",
    "Nota sobre numpys que acceden por filas y luego cols, por lo que tenemos que girar los vectores, pero solo para la impresion de los valores"
   ]
  },
  {
   "cell_type": "code",
   "execution_count": 3,
   "metadata": {},
   "outputs": [
    {
     "ename": "AttributeError",
     "evalue": "module 'main' has no attribute 'main'",
     "output_type": "error",
     "traceback": [
      "\u001b[0;31m---------------------------------------------------------------------------\u001b[0m",
      "\u001b[0;31mAttributeError\u001b[0m                            Traceback (most recent call last)",
      "\u001b[0;32m<ipython-input-3-ccde7e7515fd>\u001b[0m in \u001b[0;36m<module>\u001b[0;34m\u001b[0m\n\u001b[0;32m----> 1\u001b[0;31m \u001b[0mmn\u001b[0m\u001b[0;34m.\u001b[0m\u001b[0mmain\u001b[0m\u001b[0;34m(\u001b[0m\u001b[0;34m)\u001b[0m\u001b[0;34m\u001b[0m\u001b[0;34m\u001b[0m\u001b[0m\n\u001b[0m",
      "\u001b[0;31mAttributeError\u001b[0m: module 'main' has no attribute 'main'"
     ]
    }
   ],
   "source": [
    "mn.main()"
   ]
  },
  {
   "cell_type": "code",
   "execution_count": null,
   "metadata": {},
   "outputs": [],
   "source": []
  }
 ],
 "metadata": {
  "kernelspec": {
   "display_name": "Python 3",
   "language": "python",
   "name": "python3"
  },
  "language_info": {
   "codemirror_mode": {
    "name": "ipython",
    "version": 3
   },
   "file_extension": ".py",
   "mimetype": "text/x-python",
   "name": "python",
   "nbconvert_exporter": "python",
   "pygments_lexer": "ipython3",
   "version": "3.6.9"
  }
 },
 "nbformat": 4,
 "nbformat_minor": 2
}
